{
 "cells": [
  {
   "cell_type": "markdown",
   "metadata": {},
   "source": [
    "## Video's\n",
    "### Sentence Semantics\n",
    "   * 3 parts\n",
    "### Semantic analysis\n",
    "   * 2 parts\n",
    "### lexical semantics \n",
    "   * 1 part\n",
    "  "
   ]
  },
  {
   "cell_type": "markdown",
   "metadata": {},
   "source": [
    "## Hw3\n",
    "* homework \n",
    "- not a clue to tell it about relative clause\n",
    "- semantic roles are wrong, so provide the correct symatic roles\n",
    "\n",
    "### Look at chapter 10 \n",
    "some express that include qunatafies and lamda expresstion, read and do the exercieses. Come up with the abstract to bind the information. \n",
    "\n",
    "do exersize 6 & 7 from chapter 10, dont have to write Applicion expr and simplyfy "
   ]
  },
  {
   "cell_type": "code",
   "execution_count": 1,
   "metadata": {},
   "outputs": [
    {
     "name": "stdout",
     "output_type": "stream",
     "text": [
      "Array1:  [ 0 10 20 40 60 80]\n",
      "Array2:  [10, 30, 40, 50, 70]\n",
      "Unique values in array1 that are not in array2:\n",
      "[ 0 20 60 80]\n"
     ]
    }
   ],
   "source": [
    "import numpy as np\n",
    "array1 = np.array([0, 10, 20, 40, 60, 80])\n",
    "print(\"Array1: \",array1)\n",
    "array2 = [10, 30, 40, 50, 70]\n",
    "print(\"Array2: \",array2)\n",
    "print(\"Unique values in array1 that are not in array2:\")\n",
    "print(np.setdiff1d(array1, array2))\n",
    "\n"
   ]
  },
  {
   "cell_type": "code",
   "execution_count": 8,
   "metadata": {},
   "outputs": [
    {
     "name": "stdout",
     "output_type": "stream",
     "text": [
      "problem with ['dog' 'test']\n"
     ]
    }
   ],
   "source": [
    "q1 = np.array(['test','the','dog'])\n",
    "q2 = np.array(['make','the','applicaiton'])\n",
    "\n",
    "print(\"problem with {}\".format(np.setdiff1d(q1,q2)))\n",
    "\n"
   ]
  },
  {
   "cell_type": "markdown",
   "metadata": {},
   "source": [
    "When people tried to hand labael these things, then have some one else determin what happeded. \n",
    "\n",
    "Universal verb index, prop bank\n",
    "\n",
    "> Propbank - larger resourses, very generic labels. \n",
    "seems to be very basic"
   ]
  },
  {
   "cell_type": "markdown",
   "metadata": {},
   "source": [
    "Information will need to be done in specific order. "
   ]
  },
  {
   "cell_type": "code",
   "execution_count": null,
   "metadata": {
    "collapsed": true
   },
   "outputs": [],
   "source": []
  }
 ],
 "metadata": {
  "kernelspec": {
   "display_name": "Python 3",
   "language": "python",
   "name": "python3"
  },
  "language_info": {
   "codemirror_mode": {
    "name": "ipython",
    "version": 3
   },
   "file_extension": ".py",
   "mimetype": "text/x-python",
   "name": "python",
   "nbconvert_exporter": "python",
   "pygments_lexer": "ipython3",
   "version": "3.6.3"
  }
 },
 "nbformat": 4,
 "nbformat_minor": 2
}
