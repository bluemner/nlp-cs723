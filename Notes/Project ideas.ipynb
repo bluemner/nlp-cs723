{
 "cells": [
  {
   "cell_type": "markdown",
   "metadata": {},
   "source": [
    "# Legal Sentiment analysis\n",
    "\n",
    "## Objective \n",
    "To attempt to derive sentement from legal verbage. User would was a questions of the form  \"Is X legal?\", \"Can I do X legaly\" or the negative  \"Is X illegal\". Depending on the question the data will return the result in the correct form.\n",
    "ie if postivate form of legal, then \"Yes X is legal\" or \"No X is not legal\" and provide the law. \n",
    "\n",
    "## Data \n",
    "http://wilawlibrary.gov/ contains the legal information for wisconsin law.\n"
   ]
  },
  {
   "cell_type": "markdown",
   "metadata": {},
   "source": [
    "# Live news parsing\n",
    "\n",
    "## objective \n",
    "Attempt to parase news feeds to use to perdict some market impacts. This can be done by parsing head lines and attempting to perform sentament analysis on the headings from news sources to derive a postive or negative context, relvance and then to group like stories form sources.\n",
    "\n",
    "## Data \n",
    "https://newsapi.org/ api the collects information form various news sources. Also http://kaggle.com"
   ]
  }
 ],
 "metadata": {
  "kernelspec": {
   "display_name": "Python 3",
   "language": "python",
   "name": "python3"
  },
  "language_info": {
   "codemirror_mode": {
    "name": "ipython",
    "version": 3
   },
   "file_extension": ".py",
   "mimetype": "text/x-python",
   "name": "python",
   "nbconvert_exporter": "python",
   "pygments_lexer": "ipython3",
   "version": "3.6.3"
  }
 },
 "nbformat": 4,
 "nbformat_minor": 2
}
