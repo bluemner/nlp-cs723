{
 "cells": [
  {
   "cell_type": "markdown",
   "metadata": {},
   "source": [
    "# Recall\n",
    "recall pos tagging \n",
    "\n",
    "Probablity \n",
    "* Treat them indepently\n",
    "* Out of these tag sequences chose the one that has highest value\n",
    "\n"
   ]
  },
  {
   "cell_type": "markdown",
   "metadata": {},
   "source": [
    "## Tag seq\n",
    "\n",
    "### How to get seq of tags\n",
    " \n",
    " * you can try to count the entire sentence, you pick out the subsequnces. \n",
    " * start with pairs, two at time, or trigram 3-at a time\n",
    " * same data for p.o.s is the same for creating rules. for PCFG\n",
    "     $A \\rightarrow w_{i}[v_{i}] | ... | w_k[v_k] such as$\n",
    "     $ NNS \\rightarrow cats[.008] || dogs [.003] $ \n",
    "\"Learning \" a unigram model involves traversing the crpus and recoreding for each word, each tag it gets and how amy times it gets that tag. "
   ]
  },
  {
   "cell_type": "markdown",
   "metadata": {},
   "source": [
    "Where the word shows up on the LHS, how offen does the non terminal not appear on the right hand side"
   ]
  },
  {
   "cell_type": "markdown",
   "metadata": {},
   "source": [
    "JJ $\\rightarrow$ green[]\n",
    "\n",
    "what about\n",
    "\n",
    "a $\\rightarrow$ BC"
   ]
  },
  {
   "cell_type": "markdown",
   "metadata": {},
   "source": [
    "NP $\\rightarrow$ DT NN | DT NNS\n",
    "\n",
    "     1 is this | 3 is this "
   ]
  },
  {
   "cell_type": "markdown",
   "metadata": {},
   "source": []
  }
 ],
 "metadata": {
  "kernelspec": {
   "display_name": "Python [Root]",
   "language": "python",
   "name": "Python [Root]"
  },
  "language_info": {
   "codemirror_mode": {
    "name": "ipython",
    "version": 3
   },
   "file_extension": ".py",
   "mimetype": "text/x-python",
   "name": "python",
   "nbconvert_exporter": "python",
   "pygments_lexer": "ipython3",
   "version": "3.5.2"
  }
 },
 "nbformat": 4,
 "nbformat_minor": 0
}
