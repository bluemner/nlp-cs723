{
 "cells": [
  {
   "cell_type": "code",
   "execution_count": 3,
   "metadata": {
    "collapsed": false
   },
   "outputs": [
    {
     "ename": "ImportError",
     "evalue": "No module named 'fixesNLTK3'",
     "output_type": "error",
     "traceback": [
      "\u001b[1;31m---------------------------------------------------------------------------\u001b[0m",
      "\u001b[1;31mImportError\u001b[0m                               Traceback (most recent call last)",
      "\u001b[1;32m<ipython-input-3-323103a64d1e>\u001b[0m in \u001b[0;36m<module>\u001b[1;34m()\u001b[0m\n\u001b[0;32m      6\u001b[0m \u001b[1;32mfrom\u001b[0m \u001b[0mnltk\u001b[0m\u001b[1;33m.\u001b[0m\u001b[0mcorpus\u001b[0m \u001b[1;32mimport\u001b[0m \u001b[0mtreebank\u001b[0m\u001b[1;33m\u001b[0m\u001b[0m\n\u001b[0;32m      7\u001b[0m \u001b[1;32mfrom\u001b[0m \u001b[0mnltk\u001b[0m \u001b[1;32mimport\u001b[0m \u001b[0mConditionalFreqDist\u001b[0m\u001b[1;33m,\u001b[0m \u001b[0mNonterminal\u001b[0m\u001b[1;33m,\u001b[0m \u001b[0mFreqDist\u001b[0m\u001b[1;33m\u001b[0m\u001b[0m\n\u001b[1;32m----> 8\u001b[1;33m \u001b[1;32mfrom\u001b[0m \u001b[0mfixesNLTK3\u001b[0m \u001b[1;32mimport\u001b[0m \u001b[1;33m*\u001b[0m\u001b[1;33m\u001b[0m\u001b[0m\n\u001b[0m\u001b[0;32m      9\u001b[0m \u001b[1;32mfrom\u001b[0m \u001b[0mBetterICP\u001b[0m \u001b[1;32mimport\u001b[0m \u001b[1;33m*\u001b[0m\u001b[1;33m\u001b[0m\u001b[0m\n\u001b[0;32m     10\u001b[0m \u001b[1;32mfrom\u001b[0m \u001b[0mnltk\u001b[0m \u001b[1;32mimport\u001b[0m \u001b[0mInsideChartParser\u001b[0m\u001b[1;33m\u001b[0m\u001b[0m\n",
      "\u001b[1;31mImportError\u001b[0m: No module named 'fixesNLTK3'"
     ]
    }
   ],
   "source": [
    "from __future__ import division\n",
    "import sys\n",
    "from pprint import pprint\n",
    "from collections import defaultdict\n",
    "import nltk\n",
    "from nltk.corpus import treebank\n",
    "from nltk import ConditionalFreqDist, Nonterminal, FreqDist\n",
    "from fixesNLTK3 import *\n",
    "from BetterICP import *\n",
    "from nltk import InsideChartParser\n",
    "\n",
    "## Main body of code ##\n",
    "# Extracting tagged sentences using NLTK libraries\n",
    "psents = treebank.parsed_sents()\n",
    "# Comment out the following 3 lines if you get tired of seeing them\n",
    "print (\"\\n 1st parsed sentence: \\n\".format(psents[0]))\n",
    "print (\"\\n Productions in the 1st parsed sentence: \\n\")\n",
    "pprint(psents[0].productions())\n",
    "\n",
    "grammar = parse_pgrammar(\"\"\"\n",
    "    # Grammatical productions.\n",
    "     S -> NP VP [1.0]\n",
    "     NP -> Pro [0.1] | Det N [0.3] | N [0.5] | NP PP [0.1]\n",
    "     VP -> Vi [0.05] | Vt NP [0.9] | VP PP [0.05]\n",
    "     Det -> Art [1.0]\n",
    "     PP -> Prep NP [1.0]\n",
    "   # Lexical productions.\n",
    "     Pro -> \"i\" [0.3] | \"we\" [0.1] | \"you\" [0.1] | \"he\" [0.3] | \"she\" [0.2]\n",
    "     Art -> \"a\" [0.4] | \"an\" [0.1] | \"the\" [0.5]\n",
    "     Prep -> \"with\" [0.7] | \"in\" [0.3]\n",
    "     N -> \"salad\" [0.4] | \"fork\" [0.3] | \"mushrooms\" [0.3]\n",
    "     Vi -> \"sneezed\" [0.5] | \"ran\" [0.5]\n",
    "     Vt -> \"eat\" [0.2] | \"eats\" [0.2] | \"ate\" [0.2] | \"see\" [0.2] | \"saw\" [0.2]\n",
    "    \"\"\")\n",
    "\n",
    "sentence1 = \"he ate salad\"\n",
    "sentence2 = \"he ate salad with mushrooms\"\n",
    "sentence3 = \"he ate salad with a fork\"\n",
    "\n",
    "# Un-comment the following 2 non-comment lines\n",
    "# when working on `PCFG Parser` section in the lab.\n",
    "## Initialize a parser with our toy probabilistic grammar\n",
    "##  (it will have 'S' as the start symbol),\n",
    "##  and parse a sentence\n",
    "#sppc=BetterICP(grammar)\n",
    "#sppc.parse(sentence1.split())\n",
    "\n",
    "## Parse some more complex sentences\n",
    "#sppc.parse(sentence2.split())\n",
    "#sppc.parse(sentence3.split())\n",
    "\n",
    "#prods = get_costed_productions(psents)\n",
    "#ppg=PCFG(Nonterminal('NP'), prods)\n",
    "#ppc=BetterICP(ppg,1000)\n",
    "#print \"beam = 1000\"\n",
    "#ppc.parse(\"the men\".split(),True,3)\n",
    "#ppc.beam(1075)\n",
    "#print \"beam = 1075\"\n",
    "#ppc.parse(\"the men\".split(),True,3)\n",
    "#ppc.trace(3)\n",
    "#ppc.beam(1200)\n",
    "#print \"beam = 1200\"\n",
    "#ppc.parse(\"the men\".split(),True,3)\n",
    "\n"
   ]
  },
  {
   "cell_type": "code",
   "execution_count": null,
   "metadata": {
    "collapsed": true
   },
   "outputs": [],
   "source": []
  }
 ],
 "metadata": {
  "kernelspec": {
   "display_name": "Python [Root]",
   "language": "python",
   "name": "Python [Root]"
  }
 },
 "nbformat": 4,
 "nbformat_minor": 0
}
