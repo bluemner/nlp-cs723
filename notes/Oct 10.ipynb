{
 "cells": [
  {
   "cell_type": "markdown",
   "metadata": {},
   "source": [
    "# Probabilistic Parsing"
   ]
  },
  {
   "cell_type": "markdown",
   "metadata": {},
   "source": [
    "With the advent of larger data sets. Allows us to take the probabilty of soloution space."
   ]
  },
  {
   "cell_type": "markdown",
   "metadata": {},
   "source": [
    "The horse raced past the barn fell.\n",
    "\n",
    "Problem is that you have to main verbs.\n",
    "\n",
    "$\\color{green}{Relative \\ clause} $\n",
    "\n",
    "The horse $\\color{green}{raced \\ past \\ the \\ barn}$ fell."
   ]
  },
  {
   "cell_type": "markdown",
   "metadata": {},
   "source": [
    "We knew it had to have a catiogory (optinal) one version where it was and wasn't their \n",
    "\n",
    "\n",
    "All the rules have to add up to 1\n",
    "\n",
    "-----------------------------------------------------------------------------------------------"
   ]
  },
  {
   "cell_type": "markdown",
   "metadata": {},
   "source": [
    "The dog sat\n",
    "\n",
    "The cat sat\n",
    "\n",
    "Eat your soup\n",
    "\n",
    "-------------------------------------------\n",
    "\n",
    "S $ \\rightarrow $ NP VP .67\n",
    "\n",
    "S $ \\rightarrow $ VP    .33"
   ]
  },
  {
   "cell_type": "markdown",
   "metadata": {},
   "source": [
    "-----------------------------------------------------------------------\n"
   ]
  },
  {
   "cell_type": "markdown",
   "metadata": {},
   "source": [
    "Problem with this method is that you are limited by your corpus"
   ]
  },
  {
   "cell_type": "code",
   "execution_count": 9,
   "metadata": {
    "collapsed": false
   },
   "outputs": [
    {
     "name": "stdout",
     "output_type": "stream",
     "text": [
      "(S\n",
      "  (NP I)\n",
      "  (VP\n",
      "    (VP (V shot) (NP (Det an) (N elephant)))\n",
      "    (PP (P in) (NP (Det my) (N pajamas)))))\n",
      "(S\n",
      "  (NP I)\n",
      "  (VP\n",
      "    (V shot)\n",
      "    (NP (Det an) (N elephant) (PP (P in) (NP (Det my) (N pajamas))))))\n"
     ]
    }
   ],
   "source": [
    "import nltk\n",
    "\n",
    "groucho_grammer = nltk.CFG.fromstring(\"\"\"\n",
    "S -> NP VP\n",
    "PP -> P NP\n",
    "NP -> Det N | Det N PP | 'I'\n",
    "VP -> V NP | VP PP\n",
    "Det -> 'an' | 'my'\n",
    "N -> 'elephant' | 'pajamas'\n",
    "V -> 'shot'\n",
    "P -> 'in'\n",
    "\"\"\")\n",
    "\n",
    "sent = ['I', 'shot', 'an', 'elephant', 'in', 'my', 'pajamas']\n",
    "parser = nltk.ChartParser(groucho_grammer)\n",
    "for tree in parser.parse(sent):\n",
    "    print(tree)\n",
    "parser."
   ]
  }
 ],
 "metadata": {
  "kernelspec": {
   "display_name": "Python [Root]",
   "language": "python",
   "name": "Python [Root]"
  },
  "language_info": {
   "codemirror_mode": {
    "name": "ipython",
    "version": 3
   },
   "file_extension": ".py",
   "mimetype": "text/x-python",
   "name": "python",
   "nbconvert_exporter": "python",
   "pygments_lexer": "ipython3",
   "version": "3.5.2"
  }
 },
 "nbformat": 4,
 "nbformat_minor": 0
}
