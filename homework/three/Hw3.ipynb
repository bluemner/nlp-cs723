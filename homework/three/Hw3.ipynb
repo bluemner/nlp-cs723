{
 "cells": [
  {
   "cell_type": "markdown",
   "metadata": {},
   "source": [
    "Brandon Blumner "
   ]
  },
  {
   "cell_type": "markdown",
   "metadata": {},
   "source": [
    "# NL Tools semantic roles & $\\lambda$\n",
    "\n",
    "* Note assuming adjatives should be denoted as a $mod(x,y) \\ f_n$  for example \"red bike\" $= mod(red,bike)$ "
   ]
  },
  {
   "cell_type": "markdown",
   "metadata": {},
   "source": [
    "## Anna drew a red panda "
   ]
  },
  {
   "cell_type": "markdown",
   "metadata": {},
   "source": [
    "$$Agent \\rightarrow Anna $$\n",
    "$$\\lambda$$\n",
    "$$drew(Anna, mod(red,panda)) $$"
   ]
  },
  {
   "cell_type": "markdown",
   "metadata": {},
   "source": [
    "## A hungry tiger ate the panda"
   ]
  },
  {
   "cell_type": "markdown",
   "metadata": {},
   "source": [
    "$$Agent,Recipient \\rightarrow Tiger $$\n",
    "$$Experiencer \\rightarrow Panda $$\n",
    "\n",
    "$$\\lambda$$\n",
    "$$ate(mod(hungry,tiger), panda)$$"
   ]
  },
  {
   "cell_type": "markdown",
   "metadata": {},
   "source": [
    "## What did the tiger eat?\n",
    "$$Agent \\rightarrow Tiger $$\n",
    "$$Experiencer \\rightarrow ?x $$\n",
    "$$\\lambda$$\n",
    "$$?x:ate(tiger,x)$$\n",
    "* Note :: changed to past tense (eat $\\Rightarrow$ ate ) becuase it should then read  \"tiger ate ?x\" "
   ]
  },
  {
   "cell_type": "markdown",
   "metadata": {},
   "source": [
    "## Anna taught herself to draw\n",
    "$$Agent,Recipient \\rightarrow Tiger $$\n",
    "$$\\lambda$$\n",
    "$$ taught(Anna,draw(Anna)) $$"
   ]
  },
  {
   "cell_type": "markdown",
   "metadata": {},
   "source": [
    "## The panda liked to scratch itself\n",
    "$$Agent, Recipient \\rightarrow Panda $$\n",
    "$$\\lambda$$\n",
    "$$ liked(panda,scratch(panda , panda) )$$"
   ]
  },
  {
   "cell_type": "markdown",
   "metadata": {},
   "source": [
    "# Provide Semantic roles, no $\\lambda$"
   ]
  },
  {
   "cell_type": "markdown",
   "metadata": {},
   "source": [
    "## The panda that Anna drew like to scratch itself\n",
    "$$Agent,Experiencer \\rightarrow Panda$$\n"
   ]
  },
  {
   "cell_type": "markdown",
   "metadata": {},
   "source": [
    "## The panda that Anna drew like to bite her\n",
    "$$Agent \\rightarrow Panda$$\n",
    "$$Experiencer \\rightarrow Anna $$"
   ]
  },
  {
   "cell_type": "markdown",
   "metadata": {},
   "source": [
    "# Logic exercises from Chapter 10 NLTK book"
   ]
  },
  {
   "cell_type": "markdown",
   "metadata": {},
   "source": [
    "## Probelm 5  (a)\n",
    "set up"
   ]
  },
  {
   "cell_type": "code",
   "execution_count": 1,
   "metadata": {
    "collapsed": true
   },
   "outputs": [],
   "source": [
    "import nltk\n",
    "from nltk.sem.logic import *\n",
    "read_expr = nltk.sem.Expression.fromstring\n",
    "lp = LogicParser()"
   ]
  },
  {
   "cell_type": "markdown",
   "metadata": {},
   "source": [
    "e1 logic string s.t. $\\exists_y \\ loves(pat,ym)$"
   ]
  },
  {
   "cell_type": "code",
   "execution_count": 2,
   "metadata": {
    "collapsed": true
   },
   "outputs": [],
   "source": [
    "e1 = lp.parse(r'(\\x.exists y.(loves(x,y)))')"
   ]
  },
  {
   "cell_type": "markdown",
   "metadata": {},
   "source": [
    "run the lp with value pat"
   ]
  },
  {
   "cell_type": "code",
   "execution_count": 3,
   "metadata": {},
   "outputs": [
    {
     "name": "stdout",
     "output_type": "stream",
     "text": [
      "exists y.loves(pat,y)\n"
     ]
    }
   ],
   "source": [
    "e2 = read_expr('pat')\n",
    "e3 = nltk.sem.ApplicationExpression(e1,e2)\n",
    "print(e3.simplify())"
   ]
  },
  {
   "cell_type": "markdown",
   "metadata": {},
   "source": [
    "repete these tasks or constuting lambda expression  and binding e1, s.t. result $ =\\exists_y( \\ love(pat,y) \\ | \\ love(y,pat) \\ )$"
   ]
  },
  {
   "cell_type": "code",
   "execution_count": 4,
   "metadata": {},
   "outputs": [
    {
     "name": "stdout",
     "output_type": "stream",
     "text": [
      "exists y.(loves(pat,y) | loves(y,pat))\n"
     ]
    }
   ],
   "source": [
    "e1.free() # clean up\n",
    "e1 = lp.parse(r'(\\x.exists y.(loves(x,y) or loves(y,x)))')\n",
    "e2 = read_expr('pat')\n",
    "e3 = nltk.sem.ApplicationExpression(e1,e2)\n",
    "print(e3.simplify())"
   ]
  },
  {
   "cell_type": "markdown",
   "metadata": {},
   "source": [
    "## Problems 6 & 7 NLTK book (b) - GS"
   ]
  },
  {
   "cell_type": "markdown",
   "metadata": {},
   "source": []
  },
  {
   "cell_type": "code",
   "execution_count": 5,
   "metadata": {},
   "outputs": [
    {
     "name": "stdout",
     "output_type": "stream",
     "text": [
      "\\x.all y.(dog(y) -> chase(x,pat))\n"
     ]
    }
   ],
   "source": [
    "e1.free() # clean up\n",
    "e1 = lp.parse(r'\\P \\x.all y.(dog(y) -> P(x)(pat))')\n",
    "e2 = lp.parse('chase')\n",
    "e3 = nltk.sem.ApplicationExpression(e1,e2)\n",
    "print(e3.simplify())"
   ]
  },
  {
   "cell_type": "code",
   "execution_count": 6,
   "metadata": {},
   "outputs": [
    {
     "name": "stdout",
     "output_type": "stream",
     "text": [
      "\\x.exists y.(dog(y) -> chase(pat,x))\n"
     ]
    }
   ],
   "source": [
    "e1.free() # clean up\n",
    "e1 = lp.parse(r'\\P \\x.exists y.(dog(y) -> P(pat,x))')\n",
    "e2 = lp.parse('chase')\n",
    "e3 = nltk.sem.ApplicationExpression(e1,e2)\n",
    "print(e3.simplify())"
   ]
  },
  {
   "cell_type": "code",
   "execution_count": 7,
   "metadata": {},
   "outputs": [
    {
     "name": "stdout",
     "output_type": "stream",
     "text": [
      "\\x0 x1.exists y.(present(y) & give(x1,y,x0))\n"
     ]
    }
   ],
   "source": [
    "e1.free() # clean up\n",
    "e1 = lp.parse(r'\\P \\x0 \\x1.exists y.(present(y) & P(x1,y,x0))')\n",
    "e2 = lp.parse('give')\n",
    "e3 = nltk.sem.ApplicationExpression(e1,e2)\n",
    "print(e3.simplify())"
   ]
  },
  {
   "cell_type": "code",
   "execution_count": 8,
   "metadata": {},
   "outputs": [
    {
     "name": "stdout",
     "output_type": "stream",
     "text": [
      "exists y.(dog(x) & bark(x))\n"
     ]
    }
   ],
   "source": [
    "e1.free() # clean up\n",
    "e1 = lp.parse(r'\\P exists y.(dog(x) & P(x))')\n",
    "e2 = lp.parse('bark')\n",
    "e3 = nltk.sem.ApplicationExpression(e1,e2)\n",
    "print(e3.simplify())"
   ]
  },
  {
   "cell_type": "code",
   "execution_count": 9,
   "metadata": {},
   "outputs": [
    {
     "name": "stdout",
     "output_type": "stream",
     "text": [
      "bark(fido)\n"
     ]
    }
   ],
   "source": [
    "e1.free() # clean up\n",
    "e1 = lp.parse(r'\\P (P(fido))')\n",
    "e2 = lp.parse('bark')\n",
    "e3 = nltk.sem.ApplicationExpression(e1,e2)\n",
    "print(e3.simplify())"
   ]
  },
  {
   "cell_type": "code",
   "execution_count": 10,
   "metadata": {},
   "outputs": [
    {
     "name": "stdout",
     "output_type": "stream",
     "text": [
      "all x.(dog(x) -> bark(x))\n"
     ]
    }
   ],
   "source": [
    "e1.free() # clean up\n",
    "e1 = lp.parse(r'\\P all x.(dog(x) -> P(x))')\n",
    "e2 = lp.parse('bark')\n",
    "e3 = nltk.sem.ApplicationExpression(e1,e2)\n",
    "print(e3.simplify())"
   ]
  }
 ],
 "metadata": {
  "kernelspec": {
   "display_name": "Python 3",
   "language": "python",
   "name": "python3"
  },
  "language_info": {
   "codemirror_mode": {
    "name": "ipython",
    "version": 3
   },
   "file_extension": ".py",
   "mimetype": "text/x-python",
   "name": "python",
   "nbconvert_exporter": "python",
   "pygments_lexer": "ipython3",
   "version": "3.6.3"
  }
 },
 "nbformat": 4,
 "nbformat_minor": 2
}
