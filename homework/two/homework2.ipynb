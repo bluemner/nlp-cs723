{
 "cells": [
  {
   "cell_type": "markdown",
   "metadata": {},
   "source": [
    "# Homwork 2\n",
    "\n",
    "<div style=\"text-align: right\"> Brandon Bluemner</div>"
   ]
  },
  {
   "cell_type": "markdown",
   "metadata": {},
   "source": [
    "## Question 1\n",
    "Suppose a grammar allows conjoined constructions such as\n",
    "\n",
    "S -> S and S S-> S while S\n",
    "\n",
    "S-> S or S S -> S when S\n",
    "\n",
    "S -> S but S\n",
    "\n",
    "Provide two correct parse trees for the following sentence, using nested, bracketed notation. (Note that this is another one that the MS SPLAT demo parser gets totally wrong.) \n",
    "\n",
    "    John slept while Mary ate and the dog barked"
   ]
  },
  {
   "cell_type": "markdown",
   "metadata": {},
   "source": [
    "### 1)\n",
    "##### Exploded view\n",
    "~~~~\n",
    "[S \n",
    "\t[S \n",
    "\t\t[NP \n",
    "\t\t\t[NNP John]\n",
    "\t\t\t[VP \n",
    "\t\t\t\t[VBD slept]\n",
    "\t\t\t]\n",
    "\t\t]\n",
    "\t]\n",
    "\t while \n",
    "\t[S \n",
    "\t\t[S \n",
    "\t\t\t[NP \n",
    "\t\t\t\t[NNP Mary]\n",
    "\t\t\t]\n",
    "\t\t\t[VP \n",
    "\t\t\t\t[VBD ate]\n",
    "\t\t\t]\n",
    "\t\t]\n",
    "\t\tand \n",
    "\t\t[S \n",
    "\t\t\t[NP \n",
    "\t\t\t\t[DT the]\n",
    "\t\t\t\t[NN dog]] \n",
    "\t\t\t[VP \n",
    "\t\t\t\t[VBN barked]\n",
    "\t\t\t]\n",
    "\t\t\t\n",
    "\t\t]\n",
    "\t]\n",
    "]\n",
    "~~~~\n",
    "##### Compressed view \n",
    "```[S [S [NP [NNP John][VP [VBD slept]]]] while [S [S [NP [NNP Mary]][VP [VBD ate]]] and [S [NP [DT the][NN dog]] [VP [VBN barked]]]]]```"
   ]
  },
  {
   "cell_type": "markdown",
   "metadata": {},
   "source": [
    "### 2)\n",
    "##### Exploded view\n",
    "```\n",
    "[S \n",
    "\t[S \n",
    "\t\t[S \n",
    "\t\t\t[NP \n",
    "\t\t\t\t[NNP John]\n",
    "\t\t\t]\n",
    "\t\t\t[VP \n",
    "\t\t\t\t[VBD slept]\n",
    "\t\t\t]\n",
    "\t\t]\n",
    "\t\twhile\n",
    "\n",
    "\t\t[S \n",
    "\t\t\t[NP \n",
    "\t\t\t\t[NNP Mary]\n",
    "\t\t\t]\n",
    "\t\t\t[VP \n",
    "\t\t\t\t[VBD ate]\n",
    "\t\t\t]\n",
    "\t\t]\n",
    "\t]\n",
    "\tand \n",
    "\t[S \n",
    "\t\t[NP \n",
    "\t\t\t[DT the]\n",
    "\t\t\t[NN dog]\n",
    "\t\t] \n",
    "\t\t[VP \n",
    "\t\t\t[VBN barked]\n",
    "\t\t]\n",
    "\t]\n",
    "]\n",
    "```\n",
    "##### Compressed view \n",
    "```[S [S [S [NP [NNP John]][VP [VBD slept]]] while [S [NP [NNP Mary]][VP [VBD ate]]] ] and [S [NP [DT the][NN dog]] [VP [VBN barked]]]]```\n"
   ]
  },
  {
   "cell_type": "markdown",
   "metadata": {},
   "source": [
    "## Question 2\n",
    "Consider the following long literary sentences and for each part provide the following:\n",
    "\n",
    "    i. Give a set of all the additional S-level rules that you would need including any additional conjunctions or\n",
    "       other function words.\n",
    "\n",
    "    ii. Show each passage with brackets around all the complete sentences and noun phrases (possibly nested)\n",
    "        based on the combined S grammar (from part 2i and question 1) and your understanding of noun phrases \n",
    "        (e.g. from homework 1)."
   ]
  },
  {
   "cell_type": "markdown",
   "metadata": {},
   "source": [
    "### a) E.B. White, “Stuart Little.” 107 words.\n",
    "\"In the loveliest town of all, where the houses were white and high and the elms trees were green and higher than\n",
    "the houses, where the front yards were wide and pleasant and the back yards were bushy and worth finding out\n",
    "about, where the streets sloped down to the stream and the stream flowed quietly under the bridge, where the lawns\n",
    "ended in orchards and the orchards ended in fields and the fields ended in pastures and the pastures climbed the hill\n",
    "and disappeared over the top toward the wonderful wide sky, in this loveliest of all towns Stuart stopped to get a\n",
    "drink of sarsaparilla.\""
   ]
  },
  {
   "cell_type": "markdown",
   "metadata": {},
   "source": [
    " #### Let the S-level be define by the following grammer:\n",
    "\n",
    "S -> NP VP | S S | PP PUNCT SBAR | S CC S | S PUNCT SBAR | S PUNCT\n",
    "\n",
    "NP -> DT JJ NN | DT NN NNS | DT JJ NNS | DT JJS NN| DT ADJP NN | PP NNP | DT NN | DT NNS | NP PP | NN\n",
    "\n",
    "PP -> IN NP|IN PP| IN DT | PP PP |  IN ADJP  | TO NP | IN NNS | IN NN | DT JJ\n",
    "\n",
    "ADJP -> JJ CC JJ | JJ CC JJR | DT JJS | PP ADJP | ADJP PP | JJ JJ \n",
    "\n",
    "SBAR -> WHADVP S | WHADVP\n",
    "\n",
    "WHADVP -> WRB \n",
    "\n",
    "VP -> VP CC VP | VBD RB PP | VBD ADJP VP| VBG RP RB |  VBD ADJP | VBD NP | VP VP  | VB NP | TO VP | VBD PP| VBN PP| VBDS\n",
    "\n",
    "IN -> 'In'|'of'|'than'|'under'|'in'|'over'|'toward'\n",
    "\n",
    "VBG -> 'finding'\n",
    "\n",
    "WRB -> 'where'\n",
    "\n",
    "\n",
    "JJS -> 'loveliest'\n",
    "\n",
    "VBN -> 'ended'\n",
    "\n",
    "VB -> 'get'\n",
    "\n",
    "RP -> 'out\n",
    "\n",
    "\n",
    "JJR -> 'higher'\n",
    "\n",
    "CC -> 'and'\n",
    "\n",
    "RB -> 'about'|'down'|'quietly'\n",
    "\n",
    "JJ -> 'white'|'high'|'green'|'wide'|'pleasant'|'back'|'bushy'|'worth'|'top'|'wonderful'\n",
    "\n",
    "NNP -> 'Stuart'\n",
    "\n",
    "TO -> 'to'\n",
    "\n",
    "DT -> 'the'|'all'|'this'|'a'\n",
    "\n",
    "VBD -> 'were'|'sloped'|'flowed'|'ended'|'climbed'|'disappeared'|'stopped'\n",
    "\n",
    "PUNCT -> ','|'.'\n",
    "\n",
    "NN -> 'town'|'elms'|'front'|'stream'|'bridge'|'lawns'|'hill'|'sky'|'drink'|'sarsaparilla'\n",
    "\n",
    "NNS -> 'houses'|'trees'|'yards'|'streets'|'orchards'|'fields'|'pastures'|'towns'\n",
    "\n"
   ]
  },
  {
   "cell_type": "markdown",
   "metadata": {},
   "source": [
    "Which yields the following:"
   ]
  },
  {
   "cell_type": "markdown",
   "metadata": {},
   "source": [
    "#### Issues\n",
    "This size of the copra made testing difficult using the `nltk.CFG.fromstring` as memory sizes exceed my system 16gb, due to some of the recursion in the grammer, so some opitimization is needed. "
   ]
  },
  {
   "cell_type": "markdown",
   "metadata": {},
   "source": [
    "### b) (GRAD ONLY) W.G. Sebald, “The Rings of Saturn.” 107 words.\n",
    "\"All I know is that I stood spellbound in his high-ceilinged studio room, with its north-facing windows in front of\n",
    "the heavy mahogany bureau at which Michael said he no longer worked because the room was so cold, even in\n",
    "midsummer; and that, while we talked of the difficulty of heating old houses, a strange feeling came upon me, as if\n",
    "it were not he who had abandoned that place of work but I, as if the spectacles cases, letters and writing materials\n",
    "that had evidently lain untouched for months in the soft north light had once been my spectacle cases, my letters and\n",
    "my writing materials\""
   ]
  },
  {
   "cell_type": "markdown",
   "metadata": {},
   "source": [
    "## Question 3\n",
    "Consider the following examples of “garden path” (GP) sentences and some similar non-garden path sentences.\n",
    "(They are from the Wikipedia entry on Garden Path Sentences). Using the MSR SPLAT demo (http://\n",
    "msrsplatdemo.cloudapp.net/), compute the precision and recall of the GP versions based on the number of correct\n",
    "phrases when compared to the non-GP versions. (Show the unsimplified expressions that you used to compute the\n",
    "precision and recall.)."
   ]
  },
  {
   "cell_type": "markdown",
   "metadata": {},
   "source": [
    "$ Precision = \\frac{Number \\ of \\ correct \\ cunks \\ given \\ by \\ system}{Total\\ number \\ of \\ chunks \\ given \\ by \\ system} $\n",
    "\n",
    "$ Recall = \\frac{Number \\ of \\ correct \\ cunks \\ given \\ by \\ system}{Total \\ number \\ of \\ actual \\ chunks \\ in \\ the \\ text}$\n"
   ]
  },
  {
   "cell_type": "markdown",
   "metadata": {},
   "source": [
    "### a) The horse raced past the barn fell. vs The horse that was raced past the barn fell.\n",
    "\n",
    "##### Actual Chunker\n",
    "\n",
    "`[\"[NP The horse] [VP raced] [PP past] [NP the barn] [VP fell] \\n\"]`\n",
    "\n",
    "Total 5 chunks\n",
    "\n",
    "##### Expected  Chunker\n",
    "\n",
    "`[\"[NP The horse] [NP that] [VP was] [VP raced] [ADJP past] [NP the barn] [VP fell] . \\n\"]`\n",
    "\n",
    "Total 7 chunks\n",
    "\n",
    "##### Correct Cunks\n",
    "`[NP The horse] [VP raced] [NP the barn] [VP fell]`\n",
    "\n",
    "Total 4\n",
    "\n",
    "Assuming the numbers above are correct\n",
    "\n",
    "$ Precision = \\frac{4}{5} \\approx 80\\% $\n",
    "\n",
    "$ Recall = \\frac{4}{7} \\approx 57.143\\% $"
   ]
  },
  {
   "cell_type": "markdown",
   "metadata": {},
   "source": [
    "### b) The old man the boats vs The old sank the boats.\n",
    "\n",
    "##### Actual Chunker\n",
    "`[\"[NP The old man] [NP the boats] \\n\"]`\n",
    "\n",
    "Total 2\n",
    "##### Epected  Chunker\n",
    "`[\"[NP The old] [VP sank] [NP the boats] \\n\"]`\n",
    "\n",
    "Total 3\n",
    "##### Correct Cunks\n",
    "Total  chunks\n",
    "\n",
    "$ Precision = \\frac{1}{2} \\approx 50\\% $\n",
    "\n",
    "$ Recall = \\frac{1}{3} \\approx 33\\%$"
   ]
  },
  {
   "cell_type": "markdown",
   "metadata": {},
   "source": [
    "### c) The complex houses married and single soldiers and their families. vs The complex was sold to married and single soldiers and their families\n",
    "##### Actual Chunker\n",
    "`[\"[NP The complex houses] [NP married and single soldiers] and [NP their families] . \\n\"]`\n",
    "\n",
    "Total 3\n",
    "##### Epected  Chunker\n",
    "`[\"[NP The complex] [VP was sold] [PP to] [NP married and single soldiers] and [NP their families] . \\n\"]`\n",
    "\n",
    "Total 5\n",
    "##### Correct Cunks\n",
    "Total  chunks\n",
    "\n",
    "$ Precision = \\frac{2}{3} \\approx 66.6\\% $\n",
    "\n",
    "$ Recall = \\frac{2}{5} \\approx 40\\%$"
   ]
  },
  {
   "cell_type": "markdown",
   "metadata": {},
   "source": [
    "## Question 4 Programming Question (probabilistic phrase structure grammars and chart parsers)\n"
   ]
  },
  {
   "cell_type": "markdown",
   "metadata": {},
   "source": [
    "## a) How many productions are there in the treebank that start with ’S’? How many start with NP (or a variant)?\n",
    "\n",
    "len 'S':772\n",
    "\n",
    "len 'NP':1490\n",
    "\n",
    "len 'NP or variant include WHNP*':3347"
   ]
  },
  {
   "cell_type": "markdown",
   "metadata": {},
   "source": [
    "## b) Describe what happens after changing the beam width and what that signifies in terms of the grammar"
   ]
  },
  {
   "cell_type": "markdown",
   "metadata": {},
   "source": [
    "## c) What was the smallest value you found for BIGGERNUM that finds the correct parse? Provide a table that shows different beam widths and the number of parses returned, where you include at least one beam value for each possible number.\n",
    "|Width |Parses Returned|\n",
    "|:----:|:-------------:|\n",
    "|  1   |   0           |\n",
    "| 1042 |   1           |\n",
    "| 1109 |   2           |\n",
    "| 1170 |   3           |\n"
   ]
  },
  {
   "cell_type": "code",
   "execution_count": null,
   "metadata": {
    "collapsed": true
   },
   "outputs": [],
   "source": []
  }
 ],
 "metadata": {
  "anaconda-cloud": {},
  "kernelspec": {
   "display_name": "Python [Root]",
   "language": "python",
   "name": "Python [Root]"
  },
  "language_info": {
   "codemirror_mode": {
    "name": "ipython",
    "version": 3
   },
   "file_extension": ".py",
   "mimetype": "text/x-python",
   "name": "python",
   "nbconvert_exporter": "python",
   "pygments_lexer": "ipython3",
   "version": "3.5.2"
  }
 },
 "nbformat": 4,
 "nbformat_minor": 0
}
