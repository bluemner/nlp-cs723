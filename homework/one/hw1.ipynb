{
 "cells": [
  {
   "cell_type": "markdown",
   "metadata": {},
   "source": [
    "# Homework 1\n",
    "\n",
    "## Problem 1"
   ]
  },
  {
   "cell_type": "code",
   "execution_count": 29,
   "metadata": {
    "collapsed": true
   },
   "outputs": [],
   "source": [
    "import nltk\n",
    "from collections import defaultdict, Counter"
   ]
  },
  {
   "cell_type": "markdown",
   "metadata": {},
   "source": [
    "### Function 1:\n",
    "Write a function GetCorpus(corpusName,categoryName) that returns the tagged words\n",
    "for that corpus and category, so that you can call the remaining functions without repeating this work."
   ]
  },
  {
   "cell_type": "code",
   "execution_count": 30,
   "metadata": {
    "collapsed": true
   },
   "outputs": [],
   "source": [
    "def GetCorpus(corpus_name, category_name):\n",
    "    '''\n",
    "            returns: the tagged words\n",
    "            for that corpus and category,\n",
    "            so that you can call the remaining\n",
    "            functions without repeating this work.\n",
    "    '''\n",
    "\n",
    "    return corpus_name.tagged_words(categories=category_name);"
   ]
  },
  {
   "cell_type": "markdown",
   "metadata": {},
   "source": [
    "### Function 2:\n",
    "Write a function GetAmbigousWords(corpus,N) that nds words in the corpus with more\n",
    "than N observed tags. This function should return a ConditionalFreqDist object where the conditions\n",
    "are the words and the frequency distribution indicates the tag frequencies for each word."
   ]
  },
  {
   "cell_type": "code",
   "execution_count": 31,
   "metadata": {
    "collapsed": true
   },
   "outputs": [],
   "source": [
    "def GetAmbiguousWords(corpus, N=0):\n",
    "    '''\n",
    "        Write a function GetAmbigousWords(corpus,N) that nds words\n",
    "        in the corpus with more than N observed tags. This function\n",
    "        should return a ConditionalFreqDist object where the conditions\n",
    "        are the words and the frequency distribution indicates the tag\n",
    "        frequencies for each word.\n",
    "    '''\n",
    "    word_dict = defaultdict(set)\n",
    "    for (word, tag) in corpus:\n",
    "        word_dict[word].add(tag)\n",
    "    filtered_words = [(word, tag)\n",
    "                       for (word, tag) in corpus if len(word_dict[word]) > N]\n",
    "\n",
    "    return nltk.ConditionalFreqDist(filtered_words);"
   ]
  },
  {
   "cell_type": "markdown",
   "metadata": {},
   "source": [
    "### Function 3: \n",
    "Write a test function TestGetAmbiguousWords(cfd,N) that veri\f",
    "es that the words indeed\n",
    "have more than N distinct tags in the returned value."
   ]
  },
  {
   "cell_type": "code",
   "execution_count": 32,
   "metadata": {
    "collapsed": true
   },
   "outputs": [],
   "source": [
    "def TestGetAmbiguousWords(cfd, N=0):\n",
    "     state = True\n",
    "     for word in cfd.conditions():\n",
    "         state &= (len(cfd[word]) > N)\n",
    "     return 'All words occur with more than {} tags.'.format(N) if state else 'A words occur with less than or equal to {} tags.'.format(N);\n"
   ]
  },
  {
   "cell_type": "markdown",
   "metadata": {},
   "source": [
    "### Function 4:\n",
    "Write a function ShowExamples(word,corpus) that given a word, \f",
    "nds one example of\n",
    "usage of the word with each of the di\u000b",
    "erent tags in which it can occur. (The corpus can be the tagged\n",
    "sentences or tagged words according to what is most convenient)"
   ]
  },
  {
   "cell_type": "code",
   "execution_count": 33,
   "metadata": {
    "collapsed": true
   },
   "outputs": [],
   "source": [
    "def ShowExample(word, cfd, corpus):\n",
    "    '''\n",
    "    Write a function ShowExample(word,corpus) that given a word,\n",
    "    \f",
    "nds one example_help of usage of the word with each of the different\n",
    "    tags in which it can occur. (The corpus can be the tagged Sentences\n",
    "    or tagged words according to what is most convenient)\n",
    "    '''\n",
    "    for tag in cfd[word].keys():\n",
    "        corpus_index = corpus.index((word, tag))\n",
    "        sent = corpus[corpus_index - 10:corpus_index] + \\\n",
    "            [(word.upper(), tag)] + corpus[corpus_index + 1:corpus_index + 11]\n",
    "        helper = ' '.join(word for (word, tag) in sent)\n",
    "        print('ShowExample\\n\\t\\'{}\\' => {}: {}'.format(word, tag, helper))\n",
    "    return ' ';"
   ]
  },
  {
   "cell_type": "code",
   "execution_count": 34,
   "metadata": {
    "collapsed": true
   },
   "outputs": [],
   "source": [
    "corpus = GetCorpus(nltk.corpus.brown, ['news','religion'])"
   ]
  },
  {
   "cell_type": "code",
   "execution_count": 35,
   "metadata": {},
   "outputs": [
    {
     "name": "stdout",
     "output_type": "stream",
     "text": [
      "<ConditionalFreqDist with 17194 conditions>\n"
     ]
    }
   ],
   "source": [
    "cfd = GetAmbiguousWords(corpus)\n",
    "print(cfd)"
   ]
  },
  {
   "cell_type": "code",
   "execution_count": 36,
   "metadata": {},
   "outputs": [
    {
     "name": "stdout",
     "output_type": "stream",
     "text": [
      "A words occur with less than or equal to 1 tags.\n"
     ]
    }
   ],
   "source": [
    "test=TestGetAmbiguousWords(cfd, 1)\n",
    "print(test)"
   ]
  },
  {
   "cell_type": "code",
   "execution_count": 37,
   "metadata": {},
   "outputs": [
    {
     "name": "stdout",
     "output_type": "stream",
     "text": [
      "ShowExample\n",
      "\t'that' => WPO: him : `` I have never mentioned a new artist THAT Thompson didn't know about '' . He might barge into\n",
      "ShowExample\n",
      "\t'that' => DT: of Cook county , altho vindication of the authority of THAT court is not the function of this court '' ,\n",
      "ShowExample\n",
      "\t'that' => WPS: charge Jan. 1 the airport be operated in a manner THAT will eliminate political influences '' . The jury did not\n",
      "ShowExample\n",
      "\t'that' => QL: Legislative Council might perform the review , Mr. Notte said THAT instead he will take up the matter with Atty. Gen.\n",
      "ShowExample\n",
      "\t'that' => CS: of Atlanta's recent primary election produced `` no evidence '' THAT any irregularities took place . The jury further said in\n",
      "ShowExample\n",
      "\t'top' => VB: dealers are optimistic that the April-June quarter will equal or TOP last year . The March gain plus this optimism has\n",
      "ShowExample\n",
      "\t'top' => NN: of 5 to 3 . Indications as late as the TOP of the sixth were that the Birds were to end\n",
      "ShowExample\n",
      "\t'top' => JJS: enter a candidate in the 1962 governor's race , a TOP official said Wednesday . Robert Snodgrass , state GOP chairman\n",
      "ShowExample\n",
      "\t'the' => AT-TL: permitting older ones to attend the residential Texas School for THE Deaf here . Operating budget for the day schools in\n",
      "ShowExample\n",
      "\t'the' => AT-HL: will take a wedding trip later . ' back with THE Met `` We are back with the ' Met '\n",
      "ShowExample\n",
      "\t'the' => AT: place . The jury further said in term-end presentments that THE City Executive Committee , which had over-all charge of the\n",
      "ShowExample\n",
      "\t'Rosburg' => NP: to an early lead , which he shared with Bob ROSBURG . But Player was only one stroke back , with\n"
     ]
    },
    {
     "data": {
      "text/plain": [
       "' '"
      ]
     },
     "execution_count": 37,
     "metadata": {},
     "output_type": "execute_result"
    }
   ],
   "source": [
    "ShowExample('that',cfd, corpus) # > 4\n",
    "ShowExample('top', cfd, corpus) # 3\n",
    "ShowExample('the', cfd, corpus) # 3\n",
    "ShowExample('Rosburg', cfd, corpus) # 1"
   ]
  },
  {
   "cell_type": "markdown",
   "metadata": {},
   "source": [
    "## Program Problem 2"
   ]
  },
  {
   "cell_type": "code",
   "execution_count": 41,
   "metadata": {
    "collapsed": true
   },
   "outputs": [],
   "source": [
    "import nltk\n",
    "nltk.data.path.append(\"L:\\\\nltk_data\") # locaiton of nltk_data if not default\n",
    "from nltk import word_tokenize, pos_tag, sent_tokenize"
   ]
  },
  {
   "cell_type": "markdown",
   "metadata": {},
   "source": [
    "the function will get parts of speach from a sentance."
   ]
  },
  {
   "cell_type": "code",
   "execution_count": 42,
   "metadata": {
    "collapsed": true
   },
   "outputs": [],
   "source": [
    "def pos_sentence(sentence):\n",
    "\tword_tokens=word_tokenize(sentence)\n",
    "\tpos = pos_tag(word_tokens)\n",
    "\tprint (pos)\n",
    "\treturn pos;"
   ]
  },
  {
   "cell_type": "markdown",
   "metadata": {},
   "source": [
    "### 2.1"
   ]
  },
  {
   "cell_type": "code",
   "execution_count": 44,
   "metadata": {},
   "outputs": [
    {
     "name": "stdout",
     "output_type": "stream",
     "text": [
      "[('many', 'JJ'), ('researchers', 'NNS'), ('two', 'CD'), ('weeks', 'NNS'), ('both', 'DT'), ('new', 'JJ'), ('positions', 'NNS')]\n",
      "(S\n",
      "  (NP many/JJ researchers/NNS)\n",
      "  (NP two/CD weeks/NNS)\n",
      "  (NP both/DT new/JJ positions/NNS))\n"
     ]
    }
   ],
   "source": [
    "sentence=pos_sentence(\"many researchers two weeks both new positions\")\n",
    "grammer = \"NP:{<CD>?<DT>?<JJ>*<NNS>+}\"\n",
    "cp = nltk.RegexpParser(grammer)\n",
    "result= cp.parse(sentence)\n",
    "print (result)"
   ]
  },
  {
   "cell_type": "markdown",
   "metadata": {},
   "source": [
    "### 2.2"
   ]
  },
  {
   "cell_type": "code",
   "execution_count": 45,
   "metadata": {},
   "outputs": [
    {
     "name": "stdout",
     "output_type": "stream",
     "text": [
      "[('the', 'DT'), ('receiving', 'VBG'), ('end', 'NN'), ('assistant', 'NN'), ('managing', 'VBG'), ('editor', 'NN')]\n",
      "(S\n",
      "  (gerunds the/DT receiving/VBG end/NN)\n",
      "  (gerunds assistant/NN managing/VBG editor/NN))\n"
     ]
    }
   ],
   "source": [
    "sentence=pos_sentence(\"the receiving end assistant managing editor\")\n",
    "grammer = \"gerunds:{<NN>?<DT>?<VBG><NN>}\"\n",
    "cp = nltk.RegexpParser(grammer)\n",
    "result= cp.parse(sentence)\n",
    "print(result)\n"
   ]
  },
  {
   "cell_type": "markdown",
   "metadata": {},
   "source": [
    "### 2.3"
   ]
  },
  {
   "cell_type": "code",
   "execution_count": 49,
   "metadata": {},
   "outputs": [
    {
     "name": "stdout",
     "output_type": "stream",
     "text": [
      "[('July', 'NNP'), ('and', 'CC'), ('Augest', 'NNP'), ('all', 'DT'), ('your', 'PRP$'), ('managers', 'NNS'), ('and', 'CC'), ('supervisors', 'NNS'), ('company', 'NN'), ('courts', 'NNS'), ('and', 'CC'), ('adjudicators', 'NNS')]\n",
      "(S\n",
      "  (coordination July/NNP and/CC Augest/NNP)\n",
      "  (coordination all/DT your/PRP$ managers/NNS and/CC supervisors/NNS)\n",
      "  (coordination company/NN courts/NNS and/CC adjudicators/NNS))\n"
     ]
    }
   ],
   "source": [
    "sentence=pos_sentence(\"July and Augest all your managers and supervisors company courts and adjudicators\")\n",
    "grammer =  \"coordination:{<NNP><CC><NNP>+| <DT>?<PRP\\$><NNS><CC><NNS>| <NN><NNS>+<CC><NNS> }\" \n",
    "cp = nltk.RegexpParser(grammer)\n",
    "result= cp.parse(sentence)\n",
    "print (result)"
   ]
  }
 ],
 "metadata": {
  "anaconda-cloud": {},
  "kernelspec": {
   "display_name": "Python 3",
   "language": "python",
   "name": "python3"
  },
  "language_info": {
   "codemirror_mode": {
    "name": "ipython",
    "version": 3
   },
   "file_extension": ".py",
   "mimetype": "text/x-python",
   "name": "python",
   "nbconvert_exporter": "python",
   "pygments_lexer": "ipython3",
   "version": "3.6.3"
  }
 },
 "nbformat": 4,
 "nbformat_minor": 1
}
