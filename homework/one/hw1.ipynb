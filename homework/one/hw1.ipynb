{
 "cells": [
  {
   "cell_type": "markdown",
   "metadata": {},
   "source": [
    "## Homework 1"
   ]
  },
  {
   "cell_type": "code",
   "execution_count": 1,
   "metadata": {
    "collapsed": true
   },
   "outputs": [],
   "source": [
    "import nltk\n",
    "from collections import defaultdict, Counter"
   ]
  },
  {
   "cell_type": "markdown",
   "metadata": {},
   "source": [
    "Function 1: Write a function GetCorpus(corpusName,categoryName) that returns the tagged words\n",
    "for that corpus and category, so that you can call the remaining functions without repeating this work."
   ]
  },
  {
   "cell_type": "code",
   "execution_count": 2,
   "metadata": {
    "collapsed": true
   },
   "outputs": [],
   "source": [
    "def GetCorpus(corpus_name, category_name):\n",
    "    '''\n",
    "            returns: the tagged words\n",
    "            for that corpus and category,\n",
    "            so that you can call the remaining\n",
    "            functions without repeating this work.\n",
    "    '''\n",
    "\n",
    "    return corpus_name.tagged_words(categories=category_name);"
   ]
  },
  {
   "cell_type": "markdown",
   "metadata": {},
   "source": [
    "Function 2: Write a function GetAmbigousWords(corpus,N) that nds words in the corpus with more\n",
    "than N observed tags. This function should return a ConditionalFreqDist object where the conditions\n",
    "are the words and the frequency distribution indicates the tag frequencies for each word."
   ]
  },
  {
   "cell_type": "code",
   "execution_count": 3,
   "metadata": {
    "collapsed": true
   },
   "outputs": [],
   "source": [
    "def GetAmbiguousWords(corpus, N=0):\n",
    "    '''\n",
    "        Write a function GetAmbigousWords(corpus,N) that nds words\n",
    "        in the corpus with more than N observed tags. This function\n",
    "        should return a ConditionalFreqDist object where the conditions\n",
    "        are the words and the frequency distribution indicates the tag\n",
    "        frequencies for each word.\n",
    "    '''\n",
    "    word_dict = defaultdict(set)\n",
    "    for (word, tag) in corpus:\n",
    "        word_dict[word].add(tag)\n",
    "    filtered_words = [(word, tag)\n",
    "                       for (word, tag) in corpus if len(word_dict[word]) > N]\n",
    "\n",
    "    return nltk.ConditionalFreqDist(filtered_words);"
   ]
  },
  {
   "cell_type": "markdown",
   "metadata": {},
   "source": [
    "Function 3: Write a test function TestGetAmbiguousWords(cfd,N) that veri\f",
    "es that the words indeed\n",
    "have more than N distinct tags in the returned value."
   ]
  },
  {
   "cell_type": "code",
   "execution_count": 4,
   "metadata": {
    "collapsed": true
   },
   "outputs": [],
   "source": [
    "def TestGetAmbiguousWords(cfd, N=0):\n",
    "     state = True\n",
    "     for word in cfd.conditions():\n",
    "         state &= (len(cfd[word]) > N)\n",
    "     return 'All words occur with more than {} tags.'.format(N) if state else 'A words occur with less than or equal to {} tags.'.format(N);\n"
   ]
  },
  {
   "cell_type": "markdown",
   "metadata": {},
   "source": [
    "Function 4: Write a function ShowExamples(word,corpus) that given a word, \f",
    "nds one example of\n",
    "usage of the word with each of the di\u000b",
    "erent tags in which it can occur. (The corpus can be the tagged\n",
    "sentences or tagged words according to what is most convenient)"
   ]
  },
  {
   "cell_type": "code",
   "execution_count": 5,
   "metadata": {
    "collapsed": true
   },
   "outputs": [],
   "source": [
    "def ShowExample(word, cfd, corpus):\n",
    "    '''\n",
    "    Write a function ShowExample(word,corpus) that given a word,\n",
    "    \f",
    "nds one example_help of usage of the word with each of the different\n",
    "    tags in which it can occur. (The corpus can be the tagged Sentences\n",
    "    or tagged words according to what is most convenient)\n",
    "    '''\n",
    "    for tag in cfd[word].keys():\n",
    "        corpus_index = corpus.index((word, tag))\n",
    "        sent = corpus[corpus_index - 10:corpus_index] + \\\n",
    "            [(word.upper(), tag)] + corpus[corpus_index + 1:corpus_index + 11]\n",
    "        helper = ' '.join(word for (word, tag) in sent)\n",
    "        print('ShowExample\\n\\t\\'{}\\' => {}: {}'.format(word, tag, helper))\n",
    "    return ' ';"
   ]
  },
  {
   "cell_type": "code",
   "execution_count": 6,
   "metadata": {
    "collapsed": true
   },
   "outputs": [],
   "source": [
    "corpus = GetCorpus(nltk.corpus.brown, 'news')"
   ]
  },
  {
   "cell_type": "code",
   "execution_count": 7,
   "metadata": {
    "collapsed": false
   },
   "outputs": [
    {
     "name": "stdout",
     "output_type": "stream",
     "text": [
      "<ConditionalFreqDist with 1723 conditions>\n"
     ]
    }
   ],
   "source": [
    "cfd = GetAmbiguousWords(corpus, 1)\n",
    "print(cfd)"
   ]
  },
  {
   "cell_type": "code",
   "execution_count": 8,
   "metadata": {
    "collapsed": false
   },
   "outputs": [
    {
     "name": "stdout",
     "output_type": "stream",
     "text": [
      "All words occur with more than 1 tags.\n"
     ]
    }
   ],
   "source": [
    "test=TestGetAmbiguousWords(cfd, 1)\n",
    "print(test)"
   ]
  },
  {
   "cell_type": "code",
   "execution_count": 9,
   "metadata": {
    "collapsed": false
   },
   "outputs": [
    {
     "name": "stdout",
     "output_type": "stream",
     "text": [
      "ShowExample\n",
      "\t'news' => NN-HL: the pivotal issues represented in the averages . Some good NEWS Although it looked like a routine technical snapback to Wall\n",
      "ShowExample\n",
      "\t'news' => NN: March 17 -- The flavor of Baltimore's Florida Grapefruit League NEWS ripened considerably late today when the Orioles were advised that\n"
     ]
    },
    {
     "data": {
      "text/plain": [
       "' '"
      ]
     },
     "execution_count": 9,
     "metadata": {},
     "output_type": "execute_result"
    }
   ],
   "source": [
    "ShowExample('book', cfd, corpus)\n",
    "ShowExample('news', cfd, corpus)"
   ]
  }
 ],
 "metadata": {
  "anaconda-cloud": {},
  "kernelspec": {
   "display_name": "Python [Root]",
   "language": "python",
   "name": "Python [Root]"
  },
  "language_info": {
   "codemirror_mode": {
    "name": "ipython",
    "version": 3
   },
   "file_extension": ".py",
   "mimetype": "text/x-python",
   "name": "python",
   "nbconvert_exporter": "python",
   "pygments_lexer": "ipython3",
   "version": "3.5.2"
  }
 },
 "nbformat": 4,
 "nbformat_minor": 0
}
